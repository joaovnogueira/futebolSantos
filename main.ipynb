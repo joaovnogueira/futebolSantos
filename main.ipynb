{
 "cells": [
  {
   "cell_type": "code",
   "execution_count": 3,
   "id": "d6491298",
   "metadata": {},
   "outputs": [],
   "source": [
    "from dotenv import load_dotenv\n",
    "import os\n",
    "\n",
    "load_dotenv()\n",
    "\n",
    "api_key = os.getenv(\"API_KEY\")\n",
    "\n"
   ]
  },
  {
   "cell_type": "code",
   "execution_count": 4,
   "id": "0ae4491e",
   "metadata": {},
   "outputs": [],
   "source": [
    "import requests\n",
    "\n",
    "\n",
    "headers = {\n",
    "    \"x-apisports-key\": api_key\n",
    "}\n",
    "\n",
    "url = \"https://v3.football.api-sports.io/fixtures\"\n",
    "\n",
    "params = {\n",
    "    \"league\": 71,        \n",
    "    \"season\": 2023,\n",
    "    \"team\": 128       \n",
    "      \n",
    "}\n",
    "\n",
    "# Requisição\n",
    "response = requests.get(url, headers=headers, params=params)\n",
    "\n",
    "# Parse do JSON\n",
    "dados = response.json()[\"response\"]\n",
    "\n"
   ]
  },
  {
   "cell_type": "markdown",
   "id": "4676804d",
   "metadata": {},
   "source": [
    "Vendo todos os jogos do Santos em 2023"
   ]
  },
  {
   "cell_type": "code",
   "execution_count": 5,
   "id": "fc1e5843",
   "metadata": {},
   "outputs": [
    {
     "name": "stdout",
     "output_type": "stream",
     "text": [
      "[{'fixture': {'id': 1005655, 'referee': 'Wilton Pereira Sampaio', 'timezone': 'UTC', 'date': '2023-04-16T21:30:00+00:00', 'timestamp': 1681680600, 'periods': {'first': 1681680600, 'second': 1681684200}, 'venue': {'id': 248, 'name': 'Estádio Alfredo Jaconi', 'city': 'Caxias do Sul, Rio Grande do Sul'}, 'status': {'long': 'Match Finished', 'short': 'FT', 'elapsed': 90, 'extra': None}}, 'league': {'id': 71, 'name': 'Serie A', 'country': 'Brazil', 'logo': 'https://media.api-sports.io/football/leagues/71.png', 'flag': 'https://media.api-sports.io/flags/br.svg', 'season': 2023, 'round': 'Regular Season - 1', 'standings': True}, 'teams': {'home': {'id': 130, 'name': 'Gremio', 'logo': 'https://media.api-sports.io/football/teams/130.png', 'winner': True}, 'away': {'id': 128, 'name': 'Santos', 'logo': 'https://media.api-sports.io/football/teams/128.png', 'winner': False}}, 'goals': {'home': 1, 'away': 0}, 'score': {'halftime': {'home': 1, 'away': 0}, 'fulltime': {'home': 1, 'away': 0}, 'extratime': {'home': None, 'away': None}, 'penalty': {'home': None, 'away': None}}}, {'fixture': {'id': 1005662, 'referee': 'Braulio da Silva Machado', 'timezone': 'UTC', 'date': '2023-04-23T19:00:00+00:00', 'timestamp': 1682276400, 'periods': {'first': 1682276400, 'second': 1682280000}, 'venue': {'id': 10494, 'name': 'Estádio Urbano Caldeira', 'city': 'Santos, São Paulo'}, 'status': {'long': 'Match Finished', 'short': 'FT', 'elapsed': 90, 'extra': None}}, 'league': {'id': 71, 'name': 'Serie A', 'country': 'Brazil', 'logo': 'https://media.api-sports.io/football/leagues/71.png', 'flag': 'https://media.api-sports.io/flags/br.svg', 'season': 2023, 'round': 'Regular Season - 2', 'standings': True}, 'teams': {'home': {'id': 128, 'name': 'Santos', 'logo': 'https://media.api-sports.io/football/teams/128.png', 'winner': None}, 'away': {'id': 1062, 'name': 'Atletico-MG', 'logo': 'https://media.api-sports.io/football/teams/1062.png', 'winner': None}}, 'goals': {'home': 0, 'away': 0}, 'score': {'halftime': {'home': 0, 'away': 0}, 'fulltime': {'home': 0, 'away': 0}, 'extratime': {'home': None, 'away': None}, 'penalty': {'home': None, 'away': None}}}, {'fixture': {'id': 1005672, 'referee': 'Anderson Daronco', 'timezone': 'UTC', 'date': '2023-04-29T21:30:00+00:00', 'timestamp': 1682803800, 'periods': {'first': 1682803800, 'second': 1682807400}, 'venue': {'id': 10494, 'name': 'Estádio Urbano Caldeira', 'city': 'Santos, São Paulo'}, 'status': {'long': 'Match Finished', 'short': 'FT', 'elapsed': 90, 'extra': None}}, 'league': {'id': 71, 'name': 'Serie A', 'country': 'Brazil', 'logo': 'https://media.api-sports.io/football/leagues/71.png', 'flag': 'https://media.api-sports.io/flags/br.svg', 'season': 2023, 'round': 'Regular Season - 3', 'standings': True}, 'teams': {'home': {'id': 128, 'name': 'Santos', 'logo': 'https://media.api-sports.io/football/teams/128.png', 'winner': True}, 'away': {'id': 125, 'name': 'America Mineiro', 'logo': 'https://media.api-sports.io/football/teams/125.png', 'winner': False}}, 'goals': {'home': 3, 'away': 2}, 'score': {'halftime': {'home': 2, 'away': 1}, 'fulltime': {'home': 3, 'away': 2}, 'extratime': {'home': None, 'away': None}, 'penalty': {'home': None, 'away': None}}}, {'fixture': {'id': 1005684, 'referee': 'Bruno Arleu de Araujo', 'timezone': 'UTC', 'date': '2023-05-06T19:00:00+00:00', 'timestamp': 1683399600, 'periods': {'first': 1683399600, 'second': 1683403200}, 'venue': {'id': 206, 'name': 'Estádio Raimundo Sampaio', 'city': 'Belo Horizonte, Minas Gerais'}, 'status': {'long': 'Match Finished', 'short': 'FT', 'elapsed': 90, 'extra': None}}, 'league': {'id': 71, 'name': 'Serie A', 'country': 'Brazil', 'logo': 'https://media.api-sports.io/football/leagues/71.png', 'flag': 'https://media.api-sports.io/flags/br.svg', 'season': 2023, 'round': 'Regular Season - 4', 'standings': True}, 'teams': {'home': {'id': 135, 'name': 'Cruzeiro', 'logo': 'https://media.api-sports.io/football/teams/135.png', 'winner': True}, 'away': {'id': 128, 'name': 'Santos', 'logo': 'https://media.api-sports.io/football/teams/128.png', 'winner': False}}, 'goals': {'home': 2, 'away': 1}, 'score': {'halftime': {'home': 1, 'away': 0}, 'fulltime': {'home': 2, 'away': 1}, 'extratime': {'home': None, 'away': None}, 'penalty': {'home': None, 'away': None}}}, {'fixture': {'id': 1005692, 'referee': 'Wagner do Nascimento Magalhaes', 'timezone': 'UTC', 'date': '2023-05-10T22:00:00+00:00', 'timestamp': 1683756000, 'periods': {'first': 1683756000, 'second': 1683759600}, 'venue': {'id': 10494, 'name': 'Estádio Urbano Caldeira', 'city': 'Santos, São Paulo'}, 'status': {'long': 'Match Finished', 'short': 'FT', 'elapsed': 90, 'extra': None}}, 'league': {'id': 71, 'name': 'Serie A', 'country': 'Brazil', 'logo': 'https://media.api-sports.io/football/leagues/71.png', 'flag': 'https://media.api-sports.io/flags/br.svg', 'season': 2023, 'round': 'Regular Season - 5', 'standings': True}, 'teams': {'home': {'id': 128, 'name': 'Santos', 'logo': 'https://media.api-sports.io/football/teams/128.png', 'winner': True}, 'away': {'id': 118, 'name': 'Bahia', 'logo': 'https://media.api-sports.io/football/teams/118.png', 'winner': False}}, 'goals': {'home': 3, 'away': 0}, 'score': {'halftime': {'home': 2, 'away': 0}, 'fulltime': {'home': 3, 'away': 0}, 'extratime': {'home': None, 'away': None}, 'penalty': {'home': None, 'away': None}}}, {'fixture': {'id': 1005700, 'referee': 'Rodrigo José Pereira de Lima', 'timezone': 'UTC', 'date': '2023-05-14T19:00:00+00:00', 'timestamp': 1684090800, 'periods': {'first': 1684090800, 'second': 1684094400}, 'venue': {'id': 19377, 'name': 'Estádio São Januário', 'city': 'Rio de Janeiro, Rio de Janeiro'}, 'status': {'long': 'Match Finished', 'short': 'FT', 'elapsed': 90, 'extra': None}}, 'league': {'id': 71, 'name': 'Serie A', 'country': 'Brazil', 'logo': 'https://media.api-sports.io/football/leagues/71.png', 'flag': 'https://media.api-sports.io/flags/br.svg', 'season': 2023, 'round': 'Regular Season - 6', 'standings': True}, 'teams': {'home': {'id': 133, 'name': 'Vasco DA Gama', 'logo': 'https://media.api-sports.io/football/teams/133.png', 'winner': False}, 'away': {'id': 128, 'name': 'Santos', 'logo': 'https://media.api-sports.io/football/teams/128.png', 'winner': True}}, 'goals': {'home': 0, 'away': 1}, 'score': {'halftime': {'home': 0, 'away': 1}, 'fulltime': {'home': 0, 'away': 1}, 'extratime': {'home': None, 'away': None}, 'penalty': {'home': None, 'away': None}}}, {'fixture': {'id': 1005712, 'referee': 'Raphael Claus', 'timezone': 'UTC', 'date': '2023-05-21T00:00:00+00:00', 'timestamp': 1684627200, 'periods': {'first': 1684627200, 'second': 1684630800}, 'venue': {'id': 10494, 'name': 'Estádio Urbano Caldeira', 'city': 'Santos, São Paulo'}, 'status': {'long': 'Match Finished', 'short': 'FT', 'elapsed': 90, 'extra': None}}, 'league': {'id': 71, 'name': 'Serie A', 'country': 'Brazil', 'logo': 'https://media.api-sports.io/football/leagues/71.png', 'flag': 'https://media.api-sports.io/flags/br.svg', 'season': 2023, 'round': 'Regular Season - 7', 'standings': True}, 'teams': {'home': {'id': 128, 'name': 'Santos', 'logo': 'https://media.api-sports.io/football/teams/128.png', 'winner': None}, 'away': {'id': 121, 'name': 'Palmeiras', 'logo': 'https://media.api-sports.io/football/teams/121.png', 'winner': None}}, 'goals': {'home': 0, 'away': 0}, 'score': {'halftime': {'home': 0, 'away': 0}, 'fulltime': {'home': 0, 'away': 0}, 'extratime': {'home': None, 'away': None}, 'penalty': {'home': None, 'away': None}}}, {'fixture': {'id': 1005723, 'referee': 'Anderson Daronco', 'timezone': 'UTC', 'date': '2023-05-28T21:30:00+00:00', 'timestamp': 1685309400, 'periods': {'first': 1685309400, 'second': 1685313000}, 'venue': {'id': 220, 'name': 'Estádio Nabi Abi Chedid', 'city': 'Bragança Paulista, São Paulo'}, 'status': {'long': 'Match Finished', 'short': 'FT', 'elapsed': 90, 'extra': None}}, 'league': {'id': 71, 'name': 'Serie A', 'country': 'Brazil', 'logo': 'https://media.api-sports.io/football/leagues/71.png', 'flag': 'https://media.api-sports.io/flags/br.svg', 'season': 2023, 'round': 'Regular Season - 8', 'standings': True}, 'teams': {'home': {'id': 794, 'name': 'RB Bragantino', 'logo': 'https://media.api-sports.io/football/teams/794.png', 'winner': True}, 'away': {'id': 128, 'name': 'Santos', 'logo': 'https://media.api-sports.io/football/teams/128.png', 'winner': False}}, 'goals': {'home': 2, 'away': 0}, 'score': {'halftime': {'home': 1, 'away': 0}, 'fulltime': {'home': 2, 'away': 0}, 'extratime': {'home': None, 'away': None}, 'penalty': {'home': None, 'away': None}}}, {'fixture': {'id': 1005732, 'referee': 'Paulo Cesar Zanovelli da Silva', 'timezone': 'UTC', 'date': '2023-06-04T00:00:00+00:00', 'timestamp': 1685836800, 'periods': {'first': 1685836800, 'second': 1685840400}, 'venue': {'id': 10494, 'name': 'Estádio Urbano Caldeira', 'city': 'Santos, São Paulo'}, 'status': {'long': 'Match Finished', 'short': 'FT', 'elapsed': 90, 'extra': None}}, 'league': {'id': 71, 'name': 'Serie A', 'country': 'Brazil', 'logo': 'https://media.api-sports.io/football/leagues/71.png', 'flag': 'https://media.api-sports.io/flags/br.svg', 'season': 2023, 'round': 'Regular Season - 9', 'standings': True}, 'teams': {'home': {'id': 128, 'name': 'Santos', 'logo': 'https://media.api-sports.io/football/teams/128.png', 'winner': None}, 'away': {'id': 119, 'name': 'Internacional', 'logo': 'https://media.api-sports.io/football/teams/119.png', 'winner': None}}, 'goals': {'home': 1, 'away': 1}, 'score': {'halftime': {'home': 1, 'away': 1}, 'fulltime': {'home': 1, 'away': 1}, 'extratime': {'home': None, 'away': None}, 'penalty': {'home': None, 'away': None}}}, {'fixture': {'id': 1005746, 'referee': 'Bruno Mota Correia', 'timezone': 'UTC', 'date': '2023-06-10T19:00:00+00:00', 'timestamp': 1686423600, 'periods': {'first': 1686423600, 'second': 1686427200}, 'venue': {'id': 230, 'name': 'Estádio Major Antônio Couto Pereira', 'city': 'Curitiba, Paraná'}, 'status': {'long': 'Match Finished', 'short': 'FT', 'elapsed': 90, 'extra': None}}, 'league': {'id': 71, 'name': 'Serie A', 'country': 'Brazil', 'logo': 'https://media.api-sports.io/football/leagues/71.png', 'flag': 'https://media.api-sports.io/flags/br.svg', 'season': 2023, 'round': 'Regular Season - 10', 'standings': True}, 'teams': {'home': {'id': 147, 'name': 'Coritiba', 'logo': 'https://media.api-sports.io/football/teams/147.png', 'winner': None}, 'away': {'id': 128, 'name': 'Santos', 'logo': 'https://media.api-sports.io/football/teams/128.png', 'winner': None}}, 'goals': {'home': 0, 'away': 0}, 'score': {'halftime': {'home': 0, 'away': 0}, 'fulltime': {'home': 0, 'away': 0}, 'extratime': {'home': None, 'away': None}, 'penalty': {'home': None, 'away': None}}}, {'fixture': {'id': 1005752, 'referee': 'Leandro Vuaden', 'timezone': 'UTC', 'date': '2023-06-21T23:00:00+00:00', 'timestamp': 1687388400, 'periods': {'first': 1687388400, 'second': 1687392000}, 'venue': {'id': 10494, 'name': 'Estádio Urbano Caldeira', 'city': 'Santos, São Paulo'}, 'status': {'long': 'Match Finished', 'short': 'FT', 'elapsed': 90, 'extra': None}}, 'league': {'id': 71, 'name': 'Serie A', 'country': 'Brazil', 'logo': 'https://media.api-sports.io/football/leagues/71.png', 'flag': 'https://media.api-sports.io/flags/br.svg', 'season': 2023, 'round': 'Regular Season - 11', 'standings': True}, 'teams': {'home': {'id': 128, 'name': 'Santos', 'logo': 'https://media.api-sports.io/football/teams/128.png', 'winner': False}, 'away': {'id': 131, 'name': 'Corinthians', 'logo': 'https://media.api-sports.io/football/teams/131.png', 'winner': True}}, 'goals': {'home': 0, 'away': 2}, 'score': {'halftime': {'home': 0, 'away': 2}, 'fulltime': {'home': 0, 'away': 2}, 'extratime': {'home': None, 'away': None}, 'penalty': {'home': None, 'away': None}}}, {'fixture': {'id': 1005762, 'referee': 'Wilton Pereira Sampaio', 'timezone': 'UTC', 'date': '2023-06-25T21:30:00+00:00', 'timestamp': 1687728600, 'periods': {'first': 1687728600, 'second': 1687732200}, 'venue': {'id': 10494, 'name': 'Estádio Urbano Caldeira', 'city': 'Santos, São Paulo'}, 'status': {'long': 'Match Finished', 'short': 'FT', 'elapsed': 90, 'extra': None}}, 'league': {'id': 71, 'name': 'Serie A', 'country': 'Brazil', 'logo': 'https://media.api-sports.io/football/leagues/71.png', 'flag': 'https://media.api-sports.io/flags/br.svg', 'season': 2023, 'round': 'Regular Season - 12', 'standings': True}, 'teams': {'home': {'id': 128, 'name': 'Santos', 'logo': 'https://media.api-sports.io/football/teams/128.png', 'winner': False}, 'away': {'id': 127, 'name': 'Flamengo', 'logo': 'https://media.api-sports.io/football/teams/127.png', 'winner': True}}, 'goals': {'home': 2, 'away': 3}, 'score': {'halftime': {'home': 1, 'away': 1}, 'fulltime': {'home': 2, 'away': 3}, 'extratime': {'home': None, 'away': None}, 'penalty': {'home': None, 'away': None}}}, {'fixture': {'id': 1005778, 'referee': 'Bruno Mota Correia', 'timezone': 'UTC', 'date': '2023-07-02T21:30:00+00:00', 'timestamp': 1688333400, 'periods': {'first': 1688333400, 'second': 1688337000}, 'venue': {'id': 235, 'name': 'Arena Pantanal', 'city': 'Cuiabá, Mato Grosso'}, 'status': {'long': 'Match Finished', 'short': 'FT', 'elapsed': 90, 'extra': None}}, 'league': {'id': 71, 'name': 'Serie A', 'country': 'Brazil', 'logo': 'https://media.api-sports.io/football/leagues/71.png', 'flag': 'https://media.api-sports.io/flags/br.svg', 'season': 2023, 'round': 'Regular Season - 13', 'standings': True}, 'teams': {'home': {'id': 1193, 'name': 'Cuiaba', 'logo': 'https://media.api-sports.io/football/teams/1193.png', 'winner': True}, 'away': {'id': 128, 'name': 'Santos', 'logo': 'https://media.api-sports.io/football/teams/128.png', 'winner': False}}, 'goals': {'home': 3, 'away': 0}, 'score': {'halftime': {'home': 0, 'away': 0}, 'fulltime': {'home': 3, 'away': 0}, 'extratime': {'home': None, 'away': None}, 'penalty': {'home': None, 'away': None}}}, {'fixture': {'id': 1005782, 'referee': 'Bruno Arleu de Araujo', 'timezone': 'UTC', 'date': '2023-07-09T14:00:00+00:00', 'timestamp': 1688911200, 'periods': {'first': 1688911200, 'second': 1688914800}, 'venue': {'id': 10494, 'name': 'Estádio Urbano Caldeira', 'city': 'Santos, São Paulo'}, 'status': {'long': 'Match Finished', 'short': 'FT', 'elapsed': 90, 'extra': None}}, 'league': {'id': 71, 'name': 'Serie A', 'country': 'Brazil', 'logo': 'https://media.api-sports.io/football/leagues/71.png', 'flag': 'https://media.api-sports.io/flags/br.svg', 'season': 2023, 'round': 'Regular Season - 14', 'standings': True}, 'teams': {'home': {'id': 128, 'name': 'Santos', 'logo': 'https://media.api-sports.io/football/teams/128.png', 'winner': True}, 'away': {'id': 151, 'name': 'Goias', 'logo': 'https://media.api-sports.io/football/teams/151.png', 'winner': False}}, 'goals': {'home': 4, 'away': 3}, 'score': {'halftime': {'home': 3, 'away': 1}, 'fulltime': {'home': 4, 'away': 3}, 'extratime': {'home': None, 'away': None}, 'penalty': {'home': None, 'away': None}}}, {'fixture': {'id': 1005791, 'referee': 'Braulio da Silva Machado', 'timezone': 'UTC', 'date': '2023-07-16T19:00:00+00:00', 'timestamp': 1689534000, 'periods': {'first': 1689534000, 'second': 1689537600}, 'venue': {'id': None, 'name': 'Estádio Cícero Pompeu de Toledo', 'city': 'São Paulo, São Paulo'}, 'status': {'long': 'Match Finished', 'short': 'FT', 'elapsed': 90, 'extra': None}}, 'league': {'id': 71, 'name': 'Serie A', 'country': 'Brazil', 'logo': 'https://media.api-sports.io/football/leagues/71.png', 'flag': 'https://media.api-sports.io/flags/br.svg', 'season': 2023, 'round': 'Regular Season - 15', 'standings': True}, 'teams': {'home': {'id': 126, 'name': 'Sao Paulo', 'logo': 'https://media.api-sports.io/football/teams/126.png', 'winner': True}, 'away': {'id': 128, 'name': 'Santos', 'logo': 'https://media.api-sports.io/football/teams/128.png', 'winner': False}}, 'goals': {'home': 4, 'away': 1}, 'score': {'halftime': {'home': 2, 'away': 0}, 'fulltime': {'home': 4, 'away': 1}, 'extratime': {'home': None, 'away': None}, 'penalty': {'home': None, 'away': None}}}, {'fixture': {'id': 1005802, 'referee': 'Ramon Abatti', 'timezone': 'UTC', 'date': '2023-07-23T19:00:00+00:00', 'timestamp': 1690138800, 'periods': {'first': 1690138800, 'second': 1690142400}, 'venue': {'id': 10494, 'name': 'Estádio Urbano Caldeira', 'city': 'Santos, São Paulo'}, 'status': {'long': 'Match Finished', 'short': 'FT', 'elapsed': 90, 'extra': None}}, 'league': {'id': 71, 'name': 'Serie A', 'country': 'Brazil', 'logo': 'https://media.api-sports.io/football/leagues/71.png', 'flag': 'https://media.api-sports.io/flags/br.svg', 'season': 2023, 'round': 'Regular Season - 16', 'standings': True}, 'teams': {'home': {'id': 128, 'name': 'Santos', 'logo': 'https://media.api-sports.io/football/teams/128.png', 'winner': None}, 'away': {'id': 120, 'name': 'Botafogo', 'logo': 'https://media.api-sports.io/football/teams/120.png', 'winner': None}}, 'goals': {'home': 2, 'away': 2}, 'score': {'halftime': {'home': 1, 'away': 0}, 'fulltime': {'home': 2, 'away': 2}, 'extratime': {'home': None, 'away': None}, 'penalty': {'home': None, 'away': None}}}, {'fixture': {'id': 1005809, 'referee': 'Rodrigo José Pereira de Lima', 'timezone': 'UTC', 'date': '2023-07-29T19:00:00+00:00', 'timestamp': 1690657200, 'periods': {'first': 1690657200, 'second': 1690660800}, 'venue': {'id': None, 'name': 'Estadio Jornalista Mário Filho', 'city': 'Rio de Janeiro, Rio de Janeiro'}, 'status': {'long': 'Match Finished', 'short': 'FT', 'elapsed': 90, 'extra': None}}, 'league': {'id': 71, 'name': 'Serie A', 'country': 'Brazil', 'logo': 'https://media.api-sports.io/football/leagues/71.png', 'flag': 'https://media.api-sports.io/flags/br.svg', 'season': 2023, 'round': 'Regular Season - 17', 'standings': True}, 'teams': {'home': {'id': 124, 'name': 'Fluminense', 'logo': 'https://media.api-sports.io/football/teams/124.png', 'winner': True}, 'away': {'id': 128, 'name': 'Santos', 'logo': 'https://media.api-sports.io/football/teams/128.png', 'winner': False}}, 'goals': {'home': 1, 'away': 0}, 'score': {'halftime': {'home': 0, 'away': 0}, 'fulltime': {'home': 1, 'away': 0}, 'extratime': {'home': None, 'away': None}, 'penalty': {'home': None, 'away': None}}}, {'fixture': {'id': 1005822, 'referee': 'André Luiz', 'timezone': 'UTC', 'date': '2023-08-05T19:00:00+00:00', 'timestamp': 1691262000, 'periods': {'first': 1691262000, 'second': 1691265600}, 'venue': {'id': 10494, 'name': 'Estádio Urbano Caldeira', 'city': 'Santos, São Paulo'}, 'status': {'long': 'Match Finished', 'short': 'FT', 'elapsed': 90, 'extra': None}}, 'league': {'id': 71, 'name': 'Serie A', 'country': 'Brazil', 'logo': 'https://media.api-sports.io/football/leagues/71.png', 'flag': 'https://media.api-sports.io/flags/br.svg', 'season': 2023, 'round': 'Regular Season - 18', 'standings': True}, 'teams': {'home': {'id': 128, 'name': 'Santos', 'logo': 'https://media.api-sports.io/football/teams/128.png', 'winner': None}, 'away': {'id': 134, 'name': 'Atletico Paranaense', 'logo': 'https://media.api-sports.io/football/teams/134.png', 'winner': None}}, 'goals': {'home': 1, 'away': 1}, 'score': {'halftime': {'home': 0, 'away': 1}, 'fulltime': {'home': 1, 'away': 1}, 'extratime': {'home': None, 'away': None}, 'penalty': {'home': None, 'away': None}}}, {'fixture': {'id': 1005837, 'referee': 'Bruno Mota Correia', 'timezone': 'UTC', 'date': '2023-08-13T21:30:00+00:00', 'timestamp': 1691962200, 'periods': {'first': 1691962200, 'second': 1691965800}, 'venue': {'id': 225, 'name': 'Estádio Governador Plácido Aderaldo Castelo', 'city': 'Fortaleza, Ceará'}, 'status': {'long': 'Match Finished', 'short': 'FT', 'elapsed': 90, 'extra': None}}, 'league': {'id': 71, 'name': 'Serie A', 'country': 'Brazil', 'logo': 'https://media.api-sports.io/football/leagues/71.png', 'flag': 'https://media.api-sports.io/flags/br.svg', 'season': 2023, 'round': 'Regular Season - 19', 'standings': True}, 'teams': {'home': {'id': 154, 'name': 'Fortaleza EC', 'logo': 'https://media.api-sports.io/football/teams/154.png', 'winner': True}, 'away': {'id': 128, 'name': 'Santos', 'logo': 'https://media.api-sports.io/football/teams/128.png', 'winner': False}}, 'goals': {'home': 4, 'away': 0}, 'score': {'halftime': {'home': 0, 'away': 0}, 'fulltime': {'home': 4, 'away': 0}, 'extratime': {'home': None, 'away': None}, 'penalty': {'home': None, 'away': None}}}, {'fixture': {'id': 1005842, 'referee': 'Paulo Cesar Zanovelli da Silva', 'timezone': 'UTC', 'date': '2023-08-20T19:00:00+00:00', 'timestamp': 1692558000, 'periods': {'first': 1692558000, 'second': 1692561600}, 'venue': {'id': 10494, 'name': 'Estádio Urbano Caldeira', 'city': 'Santos, São Paulo'}, 'status': {'long': 'Match Finished', 'short': 'FT', 'elapsed': 90, 'extra': None}}, 'league': {'id': 71, 'name': 'Serie A', 'country': 'Brazil', 'logo': 'https://media.api-sports.io/football/leagues/71.png', 'flag': 'https://media.api-sports.io/flags/br.svg', 'season': 2023, 'round': 'Regular Season - 20', 'standings': True}, 'teams': {'home': {'id': 128, 'name': 'Santos', 'logo': 'https://media.api-sports.io/football/teams/128.png', 'winner': True}, 'away': {'id': 130, 'name': 'Gremio', 'logo': 'https://media.api-sports.io/football/teams/130.png', 'winner': False}}, 'goals': {'home': 2, 'away': 1}, 'score': {'halftime': {'home': 0, 'away': 0}, 'fulltime': {'home': 2, 'away': 1}, 'extratime': {'home': None, 'away': None}, 'penalty': {'home': None, 'away': None}}}, {'fixture': {'id': 1005854, 'referee': 'Rafael Rodrigo Klein', 'timezone': 'UTC', 'date': '2023-08-27T19:00:00+00:00', 'timestamp': 1693162800, 'periods': {'first': 1693162800, 'second': 1693166400}, 'venue': {'id': 234, 'name': 'Arena MRV', 'city': 'Belo Horizonte, Minas Gerais'}, 'status': {'long': 'Match Finished', 'short': 'FT', 'elapsed': 90, 'extra': None}}, 'league': {'id': 71, 'name': 'Serie A', 'country': 'Brazil', 'logo': 'https://media.api-sports.io/football/leagues/71.png', 'flag': 'https://media.api-sports.io/flags/br.svg', 'season': 2023, 'round': 'Regular Season - 21', 'standings': True}, 'teams': {'home': {'id': 1062, 'name': 'Atletico-MG', 'logo': 'https://media.api-sports.io/football/teams/1062.png', 'winner': True}, 'away': {'id': 128, 'name': 'Santos', 'logo': 'https://media.api-sports.io/football/teams/128.png', 'winner': False}}, 'goals': {'home': 2, 'away': 0}, 'score': {'halftime': {'home': 1, 'away': 0}, 'fulltime': {'home': 2, 'away': 0}, 'extratime': {'home': None, 'away': None}, 'penalty': {'home': None, 'away': None}}}, {'fixture': {'id': 1005868, 'referee': 'Leandro Vuaden', 'timezone': 'UTC', 'date': '2023-09-03T21:30:00+00:00', 'timestamp': 1693776600, 'periods': {'first': 1693776600, 'second': 1693780200}, 'venue': {'id': 206, 'name': 'Estádio Raimundo Sampaio', 'city': 'Belo Horizonte, Minas Gerais'}, 'status': {'long': 'Match Finished', 'short': 'FT', 'elapsed': 90, 'extra': None}}, 'league': {'id': 71, 'name': 'Serie A', 'country': 'Brazil', 'logo': 'https://media.api-sports.io/football/leagues/71.png', 'flag': 'https://media.api-sports.io/flags/br.svg', 'season': 2023, 'round': 'Regular Season - 22', 'standings': True}, 'teams': {'home': {'id': 125, 'name': 'America Mineiro', 'logo': 'https://media.api-sports.io/football/teams/125.png', 'winner': True}, 'away': {'id': 128, 'name': 'Santos', 'logo': 'https://media.api-sports.io/football/teams/128.png', 'winner': False}}, 'goals': {'home': 2, 'away': 0}, 'score': {'halftime': {'home': 1, 'away': 0}, 'fulltime': {'home': 2, 'away': 0}, 'extratime': {'home': None, 'away': None}, 'penalty': {'home': None, 'away': None}}}, {'fixture': {'id': 1005872, 'referee': 'Braulio da Silva Machado', 'timezone': 'UTC', 'date': '2023-09-14T22:00:00+00:00', 'timestamp': 1694728800, 'periods': {'first': 1694728800, 'second': 1694732400}, 'venue': {'id': 10494, 'name': 'Estádio Urbano Caldeira', 'city': 'Santos, São Paulo'}, 'status': {'long': 'Match Finished', 'short': 'FT', 'elapsed': 90, 'extra': None}}, 'league': {'id': 71, 'name': 'Serie A', 'country': 'Brazil', 'logo': 'https://media.api-sports.io/football/leagues/71.png', 'flag': 'https://media.api-sports.io/flags/br.svg', 'season': 2023, 'round': 'Regular Season - 23', 'standings': True}, 'teams': {'home': {'id': 128, 'name': 'Santos', 'logo': 'https://media.api-sports.io/football/teams/128.png', 'winner': False}, 'away': {'id': 135, 'name': 'Cruzeiro', 'logo': 'https://media.api-sports.io/football/teams/135.png', 'winner': True}}, 'goals': {'home': 0, 'away': 3}, 'score': {'halftime': {'home': 0, 'away': 1}, 'fulltime': {'home': 0, 'away': 3}, 'extratime': {'home': None, 'away': None}, 'penalty': {'home': None, 'away': None}}}, {'fixture': {'id': 1005887, 'referee': 'Ramon Abatti', 'timezone': 'UTC', 'date': '2023-09-18T23:00:00+00:00', 'timestamp': 1695078000, 'periods': {'first': 1695078000, 'second': 1695081600}, 'venue': {'id': 216, 'name': 'Arena Fonte Nova', 'city': 'Salvador, Bahia'}, 'status': {'long': 'Match Finished', 'short': 'FT', 'elapsed': 90, 'extra': None}}, 'league': {'id': 71, 'name': 'Serie A', 'country': 'Brazil', 'logo': 'https://media.api-sports.io/football/leagues/71.png', 'flag': 'https://media.api-sports.io/flags/br.svg', 'season': 2023, 'round': 'Regular Season - 24', 'standings': True}, 'teams': {'home': {'id': 118, 'name': 'Bahia', 'logo': 'https://media.api-sports.io/football/teams/118.png', 'winner': False}, 'away': {'id': 128, 'name': 'Santos', 'logo': 'https://media.api-sports.io/football/teams/128.png', 'winner': True}}, 'goals': {'home': 1, 'away': 2}, 'score': {'halftime': {'home': 0, 'away': 0}, 'fulltime': {'home': 1, 'away': 2}, 'extratime': {'home': None, 'away': None}, 'penalty': {'home': None, 'away': None}}}, {'fixture': {'id': 1005892, 'referee': 'Anderson Daronco', 'timezone': 'UTC', 'date': '2023-10-01T19:00:00+00:00', 'timestamp': 1696186800, 'periods': {'first': 1696186800, 'second': 1696190400}, 'venue': {'id': 10494, 'name': 'Estádio Urbano Caldeira', 'city': 'Santos, São Paulo'}, 'status': {'long': 'Match Finished', 'short': 'FT', 'elapsed': 90, 'extra': None}}, 'league': {'id': 71, 'name': 'Serie A', 'country': 'Brazil', 'logo': 'https://media.api-sports.io/football/leagues/71.png', 'flag': 'https://media.api-sports.io/flags/br.svg', 'season': 2023, 'round': 'Regular Season - 25', 'standings': True}, 'teams': {'home': {'id': 128, 'name': 'Santos', 'logo': 'https://media.api-sports.io/football/teams/128.png', 'winner': True}, 'away': {'id': 133, 'name': 'Vasco DA Gama', 'logo': 'https://media.api-sports.io/football/teams/133.png', 'winner': False}}, 'goals': {'home': 4, 'away': 1}, 'score': {'halftime': {'home': 3, 'away': 1}, 'fulltime': {'home': 4, 'away': 1}, 'extratime': {'home': None, 'away': None}, 'penalty': {'home': None, 'away': None}}}, {'fixture': {'id': 1005901, 'referee': 'Flavio Rodrigues De Souza', 'timezone': 'UTC', 'date': '2023-10-08T19:00:00+00:00', 'timestamp': 1696791600, 'periods': {'first': 1696791600, 'second': 1696795200}, 'venue': {'id': 255, 'name': 'Arena Barueri', 'city': 'Barueri, São Paulo'}, 'status': {'long': 'Match Finished', 'short': 'FT', 'elapsed': 90, 'extra': None}}, 'league': {'id': 71, 'name': 'Serie A', 'country': 'Brazil', 'logo': 'https://media.api-sports.io/football/leagues/71.png', 'flag': 'https://media.api-sports.io/flags/br.svg', 'season': 2023, 'round': 'Regular Season - 26', 'standings': True}, 'teams': {'home': {'id': 121, 'name': 'Palmeiras', 'logo': 'https://media.api-sports.io/football/teams/121.png', 'winner': False}, 'away': {'id': 128, 'name': 'Santos', 'logo': 'https://media.api-sports.io/football/teams/128.png', 'winner': True}}, 'goals': {'home': 1, 'away': 2}, 'score': {'halftime': {'home': 1, 'away': 1}, 'fulltime': {'home': 1, 'away': 2}, 'extratime': {'home': None, 'away': None}, 'penalty': {'home': None, 'away': None}}}, {'fixture': {'id': 1005912, 'referee': 'Raphael Claus', 'timezone': 'UTC', 'date': '2023-10-19T23:00:00+00:00', 'timestamp': 1697756400, 'periods': {'first': 1697756400, 'second': 1697760000}, 'venue': {'id': 10494, 'name': 'Estádio Urbano Caldeira', 'city': 'Santos, São Paulo'}, 'status': {'long': 'Match Finished', 'short': 'FT', 'elapsed': 90, 'extra': None}}, 'league': {'id': 71, 'name': 'Serie A', 'country': 'Brazil', 'logo': 'https://media.api-sports.io/football/leagues/71.png', 'flag': 'https://media.api-sports.io/flags/br.svg', 'season': 2023, 'round': 'Regular Season - 27', 'standings': True}, 'teams': {'home': {'id': 128, 'name': 'Santos', 'logo': 'https://media.api-sports.io/football/teams/128.png', 'winner': False}, 'away': {'id': 794, 'name': 'RB Bragantino', 'logo': 'https://media.api-sports.io/football/teams/794.png', 'winner': True}}, 'goals': {'home': 1, 'away': 3}, 'score': {'halftime': {'home': 0, 'away': 2}, 'fulltime': {'home': 1, 'away': 3}, 'extratime': {'home': None, 'away': None}, 'penalty': {'home': None, 'away': None}}}, {'fixture': {'id': 1005925, 'referee': 'Paulo Cesar Zanovelli da Silva', 'timezone': 'UTC', 'date': '2023-10-22T19:00:00+00:00', 'timestamp': 1698001200, 'periods': {'first': 1698001200, 'second': 1698004800}, 'venue': {'id': 244, 'name': 'Estádio José Pinheiro Borda', 'city': 'Porto Alegre, Rio Grande do Sul'}, 'status': {'long': 'Match Finished', 'short': 'FT', 'elapsed': 90, 'extra': None}}, 'league': {'id': 71, 'name': 'Serie A', 'country': 'Brazil', 'logo': 'https://media.api-sports.io/football/leagues/71.png', 'flag': 'https://media.api-sports.io/flags/br.svg', 'season': 2023, 'round': 'Regular Season - 28', 'standings': True}, 'teams': {'home': {'id': 119, 'name': 'Internacional', 'logo': 'https://media.api-sports.io/football/teams/119.png', 'winner': True}, 'away': {'id': 128, 'name': 'Santos', 'logo': 'https://media.api-sports.io/football/teams/128.png', 'winner': False}}, 'goals': {'home': 7, 'away': 1}, 'score': {'halftime': {'home': 4, 'away': 0}, 'fulltime': {'home': 7, 'away': 1}, 'extratime': {'home': None, 'away': None}, 'penalty': {'home': None, 'away': None}}}, {'fixture': {'id': 1005932, 'referee': 'Wagner do Nascimento Magalhaes', 'timezone': 'UTC', 'date': '2023-10-27T00:30:00+00:00', 'timestamp': 1698366600, 'periods': {'first': 1698366600, 'second': 1698370200}, 'venue': {'id': 10494, 'name': 'Estádio Urbano Caldeira', 'city': 'Santos, São Paulo'}, 'status': {'long': 'Match Finished', 'short': 'FT', 'elapsed': 90, 'extra': None}}, 'league': {'id': 71, 'name': 'Serie A', 'country': 'Brazil', 'logo': 'https://media.api-sports.io/football/leagues/71.png', 'flag': 'https://media.api-sports.io/flags/br.svg', 'season': 2023, 'round': 'Regular Season - 29', 'standings': True}, 'teams': {'home': {'id': 128, 'name': 'Santos', 'logo': 'https://media.api-sports.io/football/teams/128.png', 'winner': True}, 'away': {'id': 147, 'name': 'Coritiba', 'logo': 'https://media.api-sports.io/football/teams/147.png', 'winner': False}}, 'goals': {'home': 2, 'away': 1}, 'score': {'halftime': {'home': 1, 'away': 1}, 'fulltime': {'home': 2, 'away': 1}, 'extratime': {'home': None, 'away': None}, 'penalty': {'home': None, 'away': None}}}, {'fixture': {'id': 1005942, 'referee': 'Anderson Daronco', 'timezone': 'UTC', 'date': '2023-10-29T21:30:00+00:00', 'timestamp': 1698615000, 'periods': {'first': 1698615000, 'second': 1698618600}, 'venue': {'id': 11531, 'name': 'Neo Química Arena', 'city': 'São Paulo, São Paulo'}, 'status': {'long': 'Match Finished', 'short': 'FT', 'elapsed': 90, 'extra': None}}, 'league': {'id': 71, 'name': 'Serie A', 'country': 'Brazil', 'logo': 'https://media.api-sports.io/football/leagues/71.png', 'flag': 'https://media.api-sports.io/flags/br.svg', 'season': 2023, 'round': 'Regular Season - 30', 'standings': True}, 'teams': {'home': {'id': 131, 'name': 'Corinthians', 'logo': 'https://media.api-sports.io/football/teams/131.png', 'winner': None}, 'away': {'id': 128, 'name': 'Santos', 'logo': 'https://media.api-sports.io/football/teams/128.png', 'winner': None}}, 'goals': {'home': 1, 'away': 1}, 'score': {'halftime': {'home': 0, 'away': 0}, 'fulltime': {'home': 1, 'away': 1}, 'extratime': {'home': None, 'away': None}, 'penalty': {'home': None, 'away': None}}}, {'fixture': {'id': 1005949, 'referee': 'Rafael Rodrigo Klein', 'timezone': 'UTC', 'date': '2023-11-01T23:00:00+00:00', 'timestamp': 1698879600, 'periods': {'first': 1698879600, 'second': 1698883200}, 'venue': {'id': None, 'name': 'Arena BRB Mané Garrincha', 'city': 'Brasília, Distrito Federal'}, 'status': {'long': 'Match Finished', 'short': 'FT', 'elapsed': 90, 'extra': None}}, 'league': {'id': 71, 'name': 'Serie A', 'country': 'Brazil', 'logo': 'https://media.api-sports.io/football/leagues/71.png', 'flag': 'https://media.api-sports.io/flags/br.svg', 'season': 2023, 'round': 'Regular Season - 31', 'standings': True}, 'teams': {'home': {'id': 127, 'name': 'Flamengo', 'logo': 'https://media.api-sports.io/football/teams/127.png', 'winner': False}, 'away': {'id': 128, 'name': 'Santos', 'logo': 'https://media.api-sports.io/football/teams/128.png', 'winner': True}}, 'goals': {'home': 1, 'away': 2}, 'score': {'halftime': {'home': 1, 'away': 1}, 'fulltime': {'home': 1, 'away': 2}, 'extratime': {'home': None, 'away': None}, 'penalty': {'home': None, 'away': None}}}, {'fixture': {'id': 1005962, 'referee': 'Sávio Pereira', 'timezone': 'UTC', 'date': '2023-11-07T00:00:00+00:00', 'timestamp': 1699315200, 'periods': {'first': 1699315200, 'second': 1699318800}, 'venue': {'id': 10494, 'name': 'Estádio Urbano Caldeira', 'city': 'Santos, São Paulo'}, 'status': {'long': 'Match Finished', 'short': 'FT', 'elapsed': 90, 'extra': None}}, 'league': {'id': 71, 'name': 'Serie A', 'country': 'Brazil', 'logo': 'https://media.api-sports.io/football/leagues/71.png', 'flag': 'https://media.api-sports.io/flags/br.svg', 'season': 2023, 'round': 'Regular Season - 32', 'standings': True}, 'teams': {'home': {'id': 128, 'name': 'Santos', 'logo': 'https://media.api-sports.io/football/teams/128.png', 'winner': None}, 'away': {'id': 1193, 'name': 'Cuiaba', 'logo': 'https://media.api-sports.io/football/teams/1193.png', 'winner': None}}, 'goals': {'home': 0, 'away': 0}, 'score': {'halftime': {'home': 0, 'away': 0}, 'fulltime': {'home': 0, 'away': 0}, 'extratime': {'home': None, 'away': None}, 'penalty': {'home': None, 'away': None}}}, {'fixture': {'id': 1005973, 'referee': 'Paulo Cesar Zanovelli da Silva', 'timezone': 'UTC', 'date': '2023-11-09T22:00:00+00:00', 'timestamp': 1699567200, 'periods': {'first': 1699567200, 'second': 1699570800}, 'venue': {'id': 240, 'name': 'Estádio de Hailé Pinheiro', 'city': 'Goiânia, Goiás'}, 'status': {'long': 'Match Finished', 'short': 'FT', 'elapsed': 90, 'extra': None}}, 'league': {'id': 71, 'name': 'Serie A', 'country': 'Brazil', 'logo': 'https://media.api-sports.io/football/leagues/71.png', 'flag': 'https://media.api-sports.io/flags/br.svg', 'season': 2023, 'round': 'Regular Season - 33', 'standings': True}, 'teams': {'home': {'id': 151, 'name': 'Goias', 'logo': 'https://media.api-sports.io/football/teams/151.png', 'winner': False}, 'away': {'id': 128, 'name': 'Santos', 'logo': 'https://media.api-sports.io/football/teams/128.png', 'winner': True}}, 'goals': {'home': 0, 'away': 1}, 'score': {'halftime': {'home': 0, 'away': 0}, 'fulltime': {'home': 0, 'away': 1}, 'extratime': {'home': None, 'away': None}, 'penalty': {'home': None, 'away': None}}}, {'fixture': {'id': 1005982, 'referee': 'Raphael Claus', 'timezone': 'UTC', 'date': '2023-11-12T21:30:00+00:00', 'timestamp': 1699824600, 'periods': {'first': 1699824600, 'second': 1699828200}, 'venue': {'id': 10494, 'name': 'Estádio Urbano Caldeira', 'city': 'Santos, São Paulo'}, 'status': {'long': 'Match Finished', 'short': 'FT', 'elapsed': 90, 'extra': None}}, 'league': {'id': 71, 'name': 'Serie A', 'country': 'Brazil', 'logo': 'https://media.api-sports.io/football/leagues/71.png', 'flag': 'https://media.api-sports.io/flags/br.svg', 'season': 2023, 'round': 'Regular Season - 34', 'standings': True}, 'teams': {'home': {'id': 128, 'name': 'Santos', 'logo': 'https://media.api-sports.io/football/teams/128.png', 'winner': None}, 'away': {'id': 126, 'name': 'Sao Paulo', 'logo': 'https://media.api-sports.io/football/teams/126.png', 'winner': None}}, 'goals': {'home': 0, 'away': 0}, 'score': {'halftime': {'home': 0, 'away': 0}, 'fulltime': {'home': 0, 'away': 0}, 'extratime': {'home': None, 'away': None}, 'penalty': {'home': None, 'away': None}}}, {'fixture': {'id': 1005990, 'referee': 'Wilton Pereira Sampaio', 'timezone': 'UTC', 'date': '2023-11-26T19:00:00+00:00', 'timestamp': 1701025200, 'periods': {'first': 1701025200, 'second': 1701028800}, 'venue': {'id': 218, 'name': 'Estádio Nilton Santos', 'city': 'Rio de Janeiro'}, 'status': {'long': 'Match Finished', 'short': 'FT', 'elapsed': 90, 'extra': None}}, 'league': {'id': 71, 'name': 'Serie A', 'country': 'Brazil', 'logo': 'https://media.api-sports.io/football/leagues/71.png', 'flag': 'https://media.api-sports.io/flags/br.svg', 'season': 2023, 'round': 'Regular Season - 35', 'standings': True}, 'teams': {'home': {'id': 120, 'name': 'Botafogo', 'logo': 'https://media.api-sports.io/football/teams/120.png', 'winner': None}, 'away': {'id': 128, 'name': 'Santos', 'logo': 'https://media.api-sports.io/football/teams/128.png', 'winner': None}}, 'goals': {'home': 1, 'away': 1}, 'score': {'halftime': {'home': 1, 'away': 0}, 'fulltime': {'home': 1, 'away': 1}, 'extratime': {'home': None, 'away': None}, 'penalty': {'home': None, 'away': None}}}, {'fixture': {'id': 1006002, 'referee': 'Anderson Daronco', 'timezone': 'UTC', 'date': '2023-11-29T22:00:00+00:00', 'timestamp': 1701295200, 'periods': {'first': 1701295200, 'second': 1701298800}, 'venue': {'id': 10494, 'name': 'Estádio Urbano Caldeira', 'city': 'Santos, São Paulo'}, 'status': {'long': 'Match Finished', 'short': 'FT', 'elapsed': 90, 'extra': None}}, 'league': {'id': 71, 'name': 'Serie A', 'country': 'Brazil', 'logo': 'https://media.api-sports.io/football/leagues/71.png', 'flag': 'https://media.api-sports.io/flags/br.svg', 'season': 2023, 'round': 'Regular Season - 36', 'standings': True}, 'teams': {'home': {'id': 128, 'name': 'Santos', 'logo': 'https://media.api-sports.io/football/teams/128.png', 'winner': False}, 'away': {'id': 124, 'name': 'Fluminense', 'logo': 'https://media.api-sports.io/football/teams/124.png', 'winner': True}}, 'goals': {'home': 0, 'away': 3}, 'score': {'halftime': {'home': 0, 'away': 2}, 'fulltime': {'home': 0, 'away': 3}, 'extratime': {'home': None, 'away': None}, 'penalty': {'home': None, 'away': None}}}, {'fixture': {'id': 1006016, 'referee': 'Rafael Rodrigo Klein', 'timezone': 'UTC', 'date': '2023-12-03T21:30:00+00:00', 'timestamp': 1701639000, 'periods': {'first': 1701639000, 'second': 1701642600}, 'venue': {'id': None, 'name': 'Ligga Arena', 'city': 'Curitiba, Paraná'}, 'status': {'long': 'Match Finished', 'short': 'FT', 'elapsed': 90, 'extra': None}}, 'league': {'id': 71, 'name': 'Serie A', 'country': 'Brazil', 'logo': 'https://media.api-sports.io/football/leagues/71.png', 'flag': 'https://media.api-sports.io/flags/br.svg', 'season': 2023, 'round': 'Regular Season - 37', 'standings': True}, 'teams': {'home': {'id': 134, 'name': 'Atletico Paranaense', 'logo': 'https://media.api-sports.io/football/teams/134.png', 'winner': True}, 'away': {'id': 128, 'name': 'Santos', 'logo': 'https://media.api-sports.io/football/teams/128.png', 'winner': False}}, 'goals': {'home': 3, 'away': 0}, 'score': {'halftime': {'home': 1, 'away': 0}, 'fulltime': {'home': 3, 'away': 0}, 'extratime': {'home': None, 'away': None}, 'penalty': {'home': None, 'away': None}}}, {'fixture': {'id': 1006022, 'referee': 'Leandro Vuaden', 'timezone': 'UTC', 'date': '2023-12-07T00:30:00+00:00', 'timestamp': 1701909000, 'periods': {'first': 1701909000, 'second': 1701912600}, 'venue': {'id': 10494, 'name': 'Estádio Urbano Caldeira', 'city': 'Santos, São Paulo'}, 'status': {'long': 'Match Finished', 'short': 'FT', 'elapsed': 90, 'extra': None}}, 'league': {'id': 71, 'name': 'Serie A', 'country': 'Brazil', 'logo': 'https://media.api-sports.io/football/leagues/71.png', 'flag': 'https://media.api-sports.io/flags/br.svg', 'season': 2023, 'round': 'Regular Season - 38', 'standings': True}, 'teams': {'home': {'id': 128, 'name': 'Santos', 'logo': 'https://media.api-sports.io/football/teams/128.png', 'winner': False}, 'away': {'id': 154, 'name': 'Fortaleza EC', 'logo': 'https://media.api-sports.io/football/teams/154.png', 'winner': True}}, 'goals': {'home': 1, 'away': 2}, 'score': {'halftime': {'home': 0, 'away': 1}, 'fulltime': {'home': 1, 'away': 2}, 'extratime': {'home': None, 'away': None}, 'penalty': {'home': None, 'away': None}}}]\n",
      "2023-04-16 - Gremio 1 x 0 Santos\n",
      "2023-04-23 - Santos 0 x 0 Atletico-MG\n",
      "2023-04-29 - Santos 3 x 2 America Mineiro\n",
      "2023-05-06 - Cruzeiro 2 x 1 Santos\n",
      "2023-05-10 - Santos 3 x 0 Bahia\n",
      "2023-05-14 - Vasco DA Gama 0 x 1 Santos\n",
      "2023-05-21 - Santos 0 x 0 Palmeiras\n",
      "2023-05-28 - RB Bragantino 2 x 0 Santos\n",
      "2023-06-04 - Santos 1 x 1 Internacional\n",
      "2023-06-10 - Coritiba 0 x 0 Santos\n",
      "2023-06-21 - Santos 0 x 2 Corinthians\n",
      "2023-06-25 - Santos 2 x 3 Flamengo\n",
      "2023-07-02 - Cuiaba 3 x 0 Santos\n",
      "2023-07-09 - Santos 4 x 3 Goias\n",
      "2023-07-16 - Sao Paulo 4 x 1 Santos\n",
      "2023-07-23 - Santos 2 x 2 Botafogo\n",
      "2023-07-29 - Fluminense 1 x 0 Santos\n",
      "2023-08-05 - Santos 1 x 1 Atletico Paranaense\n",
      "2023-08-13 - Fortaleza EC 4 x 0 Santos\n",
      "2023-08-20 - Santos 2 x 1 Gremio\n",
      "2023-08-27 - Atletico-MG 2 x 0 Santos\n",
      "2023-09-03 - America Mineiro 2 x 0 Santos\n",
      "2023-09-14 - Santos 0 x 3 Cruzeiro\n",
      "2023-09-18 - Bahia 1 x 2 Santos\n",
      "2023-10-01 - Santos 4 x 1 Vasco DA Gama\n",
      "2023-10-08 - Palmeiras 1 x 2 Santos\n",
      "2023-10-19 - Santos 1 x 3 RB Bragantino\n",
      "2023-10-22 - Internacional 7 x 1 Santos\n",
      "2023-10-27 - Santos 2 x 1 Coritiba\n",
      "2023-10-29 - Corinthians 1 x 1 Santos\n",
      "2023-11-01 - Flamengo 1 x 2 Santos\n",
      "2023-11-07 - Santos 0 x 0 Cuiaba\n",
      "2023-11-09 - Goias 0 x 1 Santos\n",
      "2023-11-12 - Santos 0 x 0 Sao Paulo\n",
      "2023-11-26 - Botafogo 1 x 1 Santos\n",
      "2023-11-29 - Santos 0 x 3 Fluminense\n",
      "2023-12-03 - Atletico Paranaense 3 x 0 Santos\n",
      "2023-12-07 - Santos 1 x 2 Fortaleza EC\n"
     ]
    }
   ],
   "source": [
    "import numpy as np\n",
    "\n",
    "print(dados)\n",
    "\n",
    "# Mostrar os resultados\n",
    "for jogo in dados:\n",
    "    data = jogo[\"fixture\"][\"date\"][:10]\n",
    "    time_casa = jogo[\"teams\"][\"home\"][\"name\"]\n",
    "    time_fora = jogo[\"teams\"][\"away\"][\"name\"]\n",
    "    gols_casa = jogo[\"goals\"][\"home\"]\n",
    "    gols_fora = jogo[\"goals\"][\"away\"]\n",
    "\n",
    "    print(f\"{data} - {time_casa} {gols_casa} x {gols_fora} {time_fora}\")"
   ]
  },
  {
   "cell_type": "markdown",
   "id": "9aaedc76",
   "metadata": {},
   "source": [
    "Descobrindo a distribuição de gols marcados e sofridos"
   ]
  },
  {
   "cell_type": "code",
   "execution_count": 6,
   "id": "51320d9f",
   "metadata": {},
   "outputs": [],
   "source": [
    "estatisticas = {\n",
    "    \"gols_marcados_1T\": 0,\n",
    "    \"gols_marcados_2T\": 0,\n",
    "    \"gols_sofridos_1T\": 0,\n",
    "    \"gols_sofridos_2T\": 0\n",
    "}"
   ]
  },
  {
   "cell_type": "code",
   "execution_count": null,
   "id": "b7f4f359",
   "metadata": {},
   "outputs": [],
   "source": [
    "for jogo in dados:\n",
    "    home = jogo[\"teams\"][\"home\"][\"id\"] == 128\n",
    "    halftime = jogo[\"score\"][\"halftime\"]\n",
    "    fulltime = jogo[\"score\"][\"fulltime\"]\n",
    "\n",
    "    if home:\n",
    "        gols_1T = halftime[\"home\"]\n",
    "        gols_finais = fulltime[\"home\"]\n",
    "        gols_sofridos_1T = halftime[\"away\"]\n",
    "        gols_sofridos_finais = fulltime[\"away\"]\n",
    "    else:  \n",
    "        gols_1T = halftime[\"away\"]\n",
    "        gols_finais = fulltime[\"away\"]\n",
    "        gols_sofridos_1T = halftime[\"home\"]\n",
    "        gols_sofridos_finais = fulltime[\"home\"]\n",
    "\n",
    "    gols_2T = gols_finais - gols_1T\n",
    "    gols_sofridos_2T = gols_sofridos_finais - gols_sofridos_1T\n",
    "\n",
    "    estatisticas[\"gols_marcados_1T\"] += gols_1T\n",
    "    estatisticas[\"gols_marcados_2T\"] += gols_2T\n",
    "    estatisticas[\"gols_sofridos_1T\"] += gols_sofridos_1T\n",
    "    estatisticas[\"gols_sofridos_2T\"] += gols_sofridos_2T"
   ]
  },
  {
   "cell_type": "code",
   "execution_count": 10,
   "id": "61db7f3a",
   "metadata": {},
   "outputs": [
    {
     "name": "stdout",
     "output_type": "stream",
     "text": [
      "   gols_marcados_1T  gols_marcados_2T  gols_sofridos_1T  gols_sofridos_2T\n",
      "0                17                22                30                34\n"
     ]
    }
   ],
   "source": [
    "import pandas as pd\n",
    "\n",
    "df = pd.DataFrame([estatisticas])\n",
    "print(df)"
   ]
  },
  {
   "cell_type": "code",
   "execution_count": 11,
   "id": "f1fe087e",
   "metadata": {},
   "outputs": [],
   "source": [
    "estatisticas = {\n",
    "    \"mandante_1T_gols_marcados\": 0,\n",
    "    \"mandante_2T_gols_marcados\": 0,\n",
    "    \"mandante_1T_gols_sofridos\": 0,\n",
    "    \"mandante_2T_gols_sofridos\": 0,\n",
    "    \"visitante_1T_gols_marcados\": 0,\n",
    "    \"visitante_2T_gols_marcados\": 0,\n",
    "    \"visitante_1T_gols_sofridos\": 0,\n",
    "    \"visitante_2T_gols_sofridos\": 0\n",
    "}\n"
   ]
  },
  {
   "cell_type": "markdown",
   "id": "d298a99a",
   "metadata": {},
   "source": [
    "Descobrindo a distribuição de gols marcados e sofridos, dentro e fora de casa"
   ]
  },
  {
   "cell_type": "code",
   "execution_count": 12,
   "id": "6d26118e",
   "metadata": {},
   "outputs": [],
   "source": [
    "for jogo in dados:\n",
    "    halftime = jogo[\"score\"][\"halftime\"]\n",
    "    fulltime = jogo[\"score\"][\"fulltime\"]\n",
    "\n",
    "    if jogo[\"teams\"][\"home\"][\"id\"] == 128:\n",
    "        # Mandante\n",
    "        gols_1T = halftime[\"home\"]\n",
    "        gols_finais = fulltime[\"home\"]\n",
    "        gols_sofridos_1T = halftime[\"away\"]\n",
    "        gols_sofridos_finais = fulltime[\"away\"]\n",
    "\n",
    "        gols_2T = gols_finais - gols_1T\n",
    "        gols_sofridos_2T = gols_sofridos_finais - gols_sofridos_1T\n",
    "\n",
    "        estatisticas[\"mandante_1T_gols_marcados\"] += gols_1T\n",
    "        estatisticas[\"mandante_2T_gols_marcados\"] += gols_2T\n",
    "        estatisticas[\"mandante_1T_gols_sofridos\"] += gols_sofridos_1T\n",
    "        estatisticas[\"mandante_2T_gols_sofridos\"] += gols_sofridos_2T\n",
    "\n",
    "    else:\n",
    "        # Visitante\n",
    "        gols_1T = halftime[\"away\"]\n",
    "        gols_finais = fulltime[\"away\"]\n",
    "        gols_sofridos_1T = halftime[\"home\"]\n",
    "        gols_sofridos_finais = fulltime[\"home\"]\n",
    "\n",
    "        gols_2T = gols_finais - gols_1T\n",
    "        gols_sofridos_2T = gols_sofridos_finais - gols_sofridos_1T\n",
    "\n",
    "        estatisticas[\"visitante_1T_gols_marcados\"] += gols_1T\n",
    "        estatisticas[\"visitante_2T_gols_marcados\"] += gols_2T\n",
    "        estatisticas[\"visitante_1T_gols_sofridos\"] += gols_sofridos_1T\n",
    "        estatisticas[\"visitante_2T_gols_sofridos\"] += gols_sofridos_2T\n"
   ]
  },
  {
   "cell_type": "code",
   "execution_count": 13,
   "id": "25090d28",
   "metadata": {},
   "outputs": [
    {
     "name": "stdout",
     "output_type": "stream",
     "text": [
      "   mandante_1T_gols_marcados  mandante_2T_gols_marcados  \\\n",
      "0                         14                         12   \n",
      "\n",
      "   mandante_1T_gols_sofridos  mandante_2T_gols_sofridos  \\\n",
      "0                         15                         13   \n",
      "\n",
      "   visitante_1T_gols_marcados  visitante_2T_gols_marcados  \\\n",
      "0                           3                          10   \n",
      "\n",
      "   visitante_1T_gols_sofridos  visitante_2T_gols_sofridos  \n",
      "0                          15                          21  \n"
     ]
    }
   ],
   "source": [
    "df = pd.DataFrame([estatisticas])\n",
    "print(df)"
   ]
  },
  {
   "cell_type": "code",
   "execution_count": 14,
   "id": "4f08b561",
   "metadata": {},
   "outputs": [
    {
     "name": "stdout",
     "output_type": "stream",
     "text": [
      "    Local    Tempo  Gols Marcados  Gols Sofridos\n",
      " Mandante 1º tempo             14             15\n",
      " Mandante 2º tempo             12             13\n",
      "Visitante 1º tempo              3             15\n",
      "Visitante 2º tempo             10             21\n"
     ]
    }
   ],
   "source": [
    "df = pd.DataFrame({\n",
    "    \"Local\": [\"Mandante\", \"Mandante\", \"Visitante\", \"Visitante\"],\n",
    "    \"Tempo\": [\"1º tempo\", \"2º tempo\", \"1º tempo\", \"2º tempo\"],\n",
    "    \"Gols Marcados\": [\n",
    "        estatisticas[\"mandante_1T_gols_marcados\"],\n",
    "        estatisticas[\"mandante_2T_gols_marcados\"],\n",
    "        estatisticas[\"visitante_1T_gols_marcados\"],\n",
    "        estatisticas[\"visitante_2T_gols_marcados\"]\n",
    "    ],\n",
    "    \"Gols Sofridos\": [\n",
    "        estatisticas[\"mandante_1T_gols_sofridos\"],\n",
    "        estatisticas[\"mandante_2T_gols_sofridos\"],\n",
    "        estatisticas[\"visitante_1T_gols_sofridos\"],\n",
    "        estatisticas[\"visitante_2T_gols_sofridos\"]\n",
    "    ]\n",
    "})\n",
    "\n",
    "print(df.to_string(index=False))\n"
   ]
  },
  {
   "cell_type": "markdown",
   "id": "4080ea01",
   "metadata": {},
   "source": [
    "Distribuição de gols sofridos por minuto"
   ]
  },
  {
   "cell_type": "code",
   "execution_count": null,
   "id": "7e35734e",
   "metadata": {},
   "outputs": [
    {
     "data": {
      "image/png": "[encoded data removed]",
      "text/plain": [
       "<Figure size 640x480 with 1 Axes>"
      ]
     },
     "metadata": {},
     "output_type": "display_data"
    }
   ],
   "source": [
    "import matplotlib.pyplot as plt\n",
    "\n",
    "\n",
    "headers = {\n",
    "    \"x-apisports-key\": api_key\n",
    "}\n",
    "\n",
    "url = \"https://v3.football.api-sports.io/teams/statistics\"\n",
    "\n",
    "params = {\n",
    "    \"league\": 71,        \n",
    "    \"season\": 2023,\n",
    "    \"team\": 128       \n",
    "      \n",
    "}\n",
    "\n",
    "\n",
    "response = requests.get(url, headers=headers, params=params)\n",
    "\n",
    "dados = response.json()[\"response\"]\n",
    "\n",
    "gols_minutos = dados[\"goals\"][\"against\"][\"minute\"]\n",
    "\n",
    "labels = []\n",
    "values = []\n",
    "\n",
    "for intervalo, info in gols_minutos.items():\n",
    "    labels.append(intervalo)\n",
    "    values.append(info[\"total\"] if info[\"total\"] is not None else 0)\n",
    "\n",
    "plt.bar(labels, values, color=\"red\")\n",
    "plt.title(\"Gols sofridos por minutagem - Santos 2023\")\n",
    "plt.xlabel(\"Intervalo de minutos\")\n",
    "plt.ylabel(\"Gols sofridos\")\n",
    "plt.grid(axis=\"y\", linestyle=\"--\", alpha=0.7)\n",
    "plt.show()"
   ]
  },
  {
   "cell_type": "code",
   "execution_count": null,
   "id": "974d5e76",
   "metadata": {},
   "outputs": [],
   "source": []
  },
  {
   "cell_type": "code",
   "execution_count": null,
   "id": "8216ef7b",
   "metadata": {},
   "outputs": [],
   "source": []
  }
 ],
 "metadata": {
  "kernelspec": {
   "display_name": "Python 3",
   "language": "python",
   "name": "python3"
  },
  "language_info": {
   "codemirror_mode": {
    "name": "ipython",
    "version": 3
   },
   "file_extension": ".py",
   "mimetype": "text/x-python",
   "name": "python",
   "nbconvert_exporter": "python",
   "pygments_lexer": "ipython3",
   "version": "3.13.3"
  }
 },
 "nbformat": 4,
 "nbformat_minor": 5
}
